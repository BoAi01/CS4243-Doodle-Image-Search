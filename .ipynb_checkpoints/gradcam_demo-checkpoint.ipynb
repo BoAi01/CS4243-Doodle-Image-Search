{
 "cells": [
  {
   "cell_type": "code",
   "execution_count": 21,
   "id": "b85e44ce",
   "metadata": {},
   "outputs": [],
   "source": [
    "import torch\n",
    "import torch.nn as nn\n",
    "from pytorch_grad_cam import GradCAM\n",
    "from torchvision import transforms, datasets\n",
    "\n",
    "from pytorch_grad_cam.utils.model_targets import ClassifierOutputTarget\n",
    "from pytorch_grad_cam.utils.image import show_cam_on_image"
   ]
  },
  {
   "cell_type": "code",
   "execution_count": 13,
   "id": "6c298ab1",
   "metadata": {},
   "outputs": [],
   "source": [
    "class CNN(nn.Module):\n",
    "    def __init__(self):\n",
    "        super().__init__()\n",
    "        self.conv = nn.Sequential(\n",
    "                        nn.Conv2d(3, 32, (3,3)),\n",
    "                        nn.MaxPool2d((2,2)),\n",
    "                        nn.ReLU(),\n",
    "                        nn.Conv2d(32, 64, (3,3)),\n",
    "                        nn.MaxPool2d((2,2)),\n",
    "                        nn.ReLU()\n",
    "                    )\n",
    "        \n",
    "        self.fc = nn.Sequential(\n",
    "                        nn.Linear(2304, 512),\n",
    "                        nn.ReLU(),\n",
    "                        nn.Linear(512, 128),\n",
    "                        nn.ReLU(),\n",
    "                        nn.Linear(128, 10)\n",
    "                    )\n",
    "        \n",
    "    def forward(self, x):\n",
    "        x = self.conv(x)\n",
    "        x = torch.flatten(x, 1)\n",
    "        x = self.fc(x)\n",
    "        \n",
    "        return x"
   ]
  },
  {
   "cell_type": "code",
   "execution_count": 14,
   "id": "58efd5ed",
   "metadata": {},
   "outputs": [
    {
     "name": "stdout",
     "output_type": "stream",
     "text": [
      "torch.Size([100, 10])\n"
     ]
    }
   ],
   "source": [
    "x = torch.rand(100, 3, 32, 32)\n",
    "net = CNN()\n",
    "y = net(x)\n",
    "print (y.shape)"
   ]
  },
  {
   "cell_type": "code",
   "execution_count": 19,
   "id": "46891da7",
   "metadata": {},
   "outputs": [],
   "source": [
    "def process_dataset(dataset):\n",
    "    X = []\n",
    "    y = []\n",
    "    for i, (k, v) in enumerate(dataset.items()):\n",
    "        X.append(v)\n",
    "        y.append([i] * v.shape[0])\n",
    "    X = np.concatenate(X)\n",
    "    y = np.concatenate(y)\n",
    "    X = torch.from_numpy(X).type(torch.float32)\n",
    "    y = torch.from_numpy(y).type(torch.int64)\n",
    "    dataset = TensorDataset(X, y)\n",
    "    dataloader = DataLoader(dataset, batch_size=32, shuffle=True)\n",
    "    return dataset, dataloader"
   ]
  },
  {
   "cell_type": "code",
   "execution_count": 22,
   "id": "19f3a4fb",
   "metadata": {},
   "outputs": [
    {
     "name": "stdout",
     "output_type": "stream",
     "text": [
      "Files already downloaded and verified\n",
      "Files already downloaded and verified\n"
     ]
    }
   ],
   "source": [
    "T = transforms.Compose([\n",
    "    transforms.ToTensor(),\n",
    "    transforms.Normalize((0.5,0.5,0.5), (0.5,0.5,0.5))\n",
    "])\n",
    "\n",
    "cifar_train = datasets.CIFAR10(\"./dataset/\", train=True, download=True, transform=T)\n",
    "cifar_test = datasets.CIFAR10(\"./dataset/\", train=False, download=True, transform=T)"
   ]
  },
  {
   "cell_type": "code",
   "execution_count": 23,
   "id": "573ff668",
   "metadata": {},
   "outputs": [],
   "source": [
    "train_loader = torch.utils.data.DataLoader(cifar_train, batch_size=256, shuffle=True)\n",
    "test_loader = torch.utils.data.DataLoader(cifar_test, batch_size=256)"
   ]
  },
  {
   "cell_type": "code",
   "execution_count": 29,
   "id": "11bed2d2",
   "metadata": {},
   "outputs": [],
   "source": [
    "def train(dataloader, model, loss_fn, optimizer):\n",
    "    size = len(dataloader.dataset)\n",
    "    model.train()\n",
    "    losses = []\n",
    "    for batch, (X, y) in enumerate(dataloader):\n",
    "        pred = model(X)\n",
    "        loss = loss_fn(pred, y)\n",
    "\n",
    "        optimizer.zero_grad()\n",
    "        loss.backward()\n",
    "        optimizer.step()\n",
    "\n",
    "        if batch % 100 == 0:\n",
    "            loss, current = loss.item(), batch * len(X)\n",
    "            # print(f\"Loss: {loss:>7f}  [{current:>5d}/{size:>5d}]\")\n",
    "            losses.append(loss)\n",
    "    return losses"
   ]
  },
  {
   "cell_type": "code",
   "execution_count": 30,
   "id": "f625b187",
   "metadata": {},
   "outputs": [],
   "source": [
    "def test(dataloader, model, loss_fn):\n",
    "    size = len(dataloader.dataset)\n",
    "    num_batches = len(dataloader)\n",
    "    model.eval()\n",
    "    test_loss, correct = 0, 0\n",
    "    with torch.no_grad():\n",
    "        for X, y in dataloader:\n",
    "            pred = model(X)\n",
    "            test_loss += loss_fn(pred, y).item()\n",
    "            correct += (pred.argmax(1) == y).type(torch.float).sum().item()\n",
    "    test_loss /= num_batches\n",
    "    correct /= size\n",
    "    print(f\"Test Error: \\n Accuracy: {(100*correct):>0.1f}%, Avg loss: {test_loss:>8f} \\n\")\n",
    "    return correct * 100"
   ]
  },
  {
   "cell_type": "code",
   "execution_count": 31,
   "id": "a5059b35",
   "metadata": {},
   "outputs": [],
   "source": [
    "model = CNN()\n",
    "optimizer = torch.optim.AdamW(model.parameters())\n",
    "loss_fn = nn.CrossEntropyLoss()"
   ]
  },
  {
   "cell_type": "code",
   "execution_count": null,
   "id": "42599f20",
   "metadata": {},
   "outputs": [
    {
     "name": "stdout",
     "output_type": "stream",
     "text": [
      "Epoch 1 - Test Error: \n",
      " Accuracy: 52.5%, Avg loss: 1.327937 \n",
      "\n",
      "Epoch 2 - Test Error: \n",
      " Accuracy: 59.3%, Avg loss: 1.141312 \n",
      "\n",
      "Epoch 3 - Test Error: \n",
      " Accuracy: 63.7%, Avg loss: 1.033516 \n",
      "\n",
      "Epoch 4 - Test Error: \n",
      " Accuracy: 67.3%, Avg loss: 0.933750 \n",
      "\n",
      "Epoch 5 - Test Error: \n",
      " Accuracy: 69.2%, Avg loss: 0.900876 \n",
      "\n",
      "Epoch 6 - Test Error: \n",
      " Accuracy: 69.5%, Avg loss: 0.890083 \n",
      "\n",
      "Epoch 7 - Test Error: \n",
      " Accuracy: 69.7%, Avg loss: 0.881917 \n",
      "\n",
      "Epoch 8 - Test Error: \n",
      " Accuracy: 72.2%, Avg loss: 0.850135 \n",
      "\n",
      "Epoch 9 - Test Error: \n",
      " Accuracy: 71.2%, Avg loss: 0.885018 \n",
      "\n",
      "Epoch 10 - Test Error: \n",
      " Accuracy: 71.9%, Avg loss: 0.924268 \n",
      "\n",
      "Epoch 11 - Test Error: \n",
      " Accuracy: 70.5%, Avg loss: 1.018924 \n",
      "\n",
      "Epoch 12 - Test Error: \n",
      " Accuracy: 71.9%, Avg loss: 1.083593 \n",
      "\n",
      "Epoch 13 - Test Error: \n",
      " Accuracy: 70.8%, Avg loss: 1.226313 \n",
      "\n",
      "Epoch 14 - Test Error: \n",
      " Accuracy: 71.2%, Avg loss: 1.268593 \n",
      "\n",
      "Epoch 15 - "
     ]
    }
   ],
   "source": [
    "epochs = 20\n",
    "training_losses = []\n",
    "test_accuracy = []\n",
    "for t in range(epochs):\n",
    "    print(f\"Epoch {t+1} - \", end=\"\")\n",
    "    train_losses = train(train_loader, model, loss_fn, optimizer)\n",
    "    test_acc = test(test_loader, model, loss_fn)\n",
    "    training_losses += train_losses\n",
    "    test_accuracy.append(test_acc)"
   ]
  },
  {
   "cell_type": "code",
   "execution_count": null,
   "id": "779c59de",
   "metadata": {},
   "outputs": [],
   "source": [
    "def get_CAM(feature_map, weight, class_idx):\n",
    "    size_upsample = (32, 32)\n",
    "    bz, nc, h, w = feature_map.shape\n",
    "\n",
    "    before_dot = feature_map.reshape((nc, h*w))\n",
    "    cam = weight[class_idx].unsqueeze(0) @ before_dot\n",
    "\n",
    "    cam = cam.squeeze(0)\n",
    "    cam = cam.reshape(h, w)\n",
    "    cam = cam - torch.min(cam)\n",
    "    cam = cam / torch.max(cam)\n",
    "    cam = torch.clip(cam, 0, 1)\n",
    "    \n",
    "    img = transforms.Resize(size_upsample)(cam.unsqueeze(0))\n",
    "    \n",
    "    return img.detach().numpy(), cam"
   ]
  },
  {
   "cell_type": "code",
   "execution_count": null,
   "id": "f6f1d484",
   "metadata": {},
   "outputs": [],
   "source": [
    "cifar10_classes = [\n",
    "    \"airplane\",\n",
    "    \"automobile\",\n",
    "    \"bird\",\n",
    "    \"cat\",\n",
    "    \"deer\",\n",
    "    \"dog\",\n",
    "    \"frog\",\n",
    "    \"horse\",\n",
    "    \"ship\",\n",
    "    \"truck\",\n",
    "]\n",
    "\n",
    "def plot_cam(img, cam):\n",
    "    ''' Visualization function '''\n",
    "    img = img.permute(1, 2, 0)\n",
    "    fig, (ax1, ax2, ax3) = plt.subplots(1, 3, figsize=(10,7))\n",
    "    ax1.imshow(img)\n",
    "    ax1.set_title(f\"Input image\\nLabel: {cifar10_classes[y]}\")\n",
    "\n",
    "    ax2.imshow(cam.reshape(32, 32), cmap=\"jet\")\n",
    "    ax2.set_title(\"Raw CAM.\")\n",
    "\n",
    "    ax3.imshow(img)\n",
    "    ax3.imshow(cam.reshape(32, 32), cmap=\"jet\", alpha=0.2)\n",
    "    ax3.set_title(f\"Overlayed CAM.\\nPrediction: {cifar10_classes[idx[0]]}\")\n",
    "    plt.show()"
   ]
  },
  {
   "cell_type": "code",
   "execution_count": null,
   "id": "c995bb56",
   "metadata": {},
   "outputs": [],
   "source": [
    "rand_idx = torch.randint(0, 10000, size=[1]) # pick a random index from the test set\n",
    "\n",
    "x = cifar_test[rand_idx][0] # test image\n",
    "y = cifar_test[rand_idx][1] # associated test label\n",
    "\n",
    "model.eval()\n",
    "scores = model(x.unsqueeze(0)) # get the soft labels\n",
    "probs = scores.data.squeeze()\n",
    "probs, idx = probs.sort(0, True)\n",
    "\n",
    "print('true class: ', cifar10_classes[y])\n",
    "print('predicated class: ', cifar10_classes[idx[0]])\n",
    "\n",
    "params = list(model.fc.parameters())\n",
    "weight = params[0].data \n",
    "\n",
    "feature_maps = model.conv(x.unsqueeze(0))\n",
    "heatmap, _ = get_CAM(feature_maps, weight, idx[0])\n",
    "    \n",
    "plot_cam(x, heatmap)"
   ]
  }
 ],
 "metadata": {
  "kernelspec": {
   "display_name": "Python 3",
   "language": "python",
   "name": "python3"
  },
  "language_info": {
   "codemirror_mode": {
    "name": "ipython",
    "version": 3
   },
   "file_extension": ".py",
   "mimetype": "text/x-python",
   "name": "python",
   "nbconvert_exporter": "python",
   "pygments_lexer": "ipython3",
   "version": "3.6.13"
  }
 },
 "nbformat": 4,
 "nbformat_minor": 5
}
