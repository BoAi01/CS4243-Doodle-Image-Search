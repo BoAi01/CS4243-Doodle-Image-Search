{
 "cells": [
  {
   "cell_type": "code",
   "execution_count": 1,
   "id": "436898c4-ee2b-47b5-a8a3-e7208a038d07",
   "metadata": {},
   "outputs": [],
   "source": [
    "def unpickle(file):\n",
    "    import pickle\n",
    "    with open(file, 'rb') as fo:\n",
    "        dict = pickle.load(fo, encoding='bytes')\n",
    "    return dict"
   ]
  },
  {
   "cell_type": "code",
   "execution_count": 2,
   "id": "9d98f5a7-926f-4c29-9e20-3ab7fdf480f2",
   "metadata": {},
   "outputs": [],
   "source": [
    "d = unpickle(\"dataset/cifar10/data_batch_1\")"
   ]
  },
  {
   "cell_type": "code",
   "execution_count": 4,
   "id": "687f639e-1311-4cfe-bdb6-0812d707aadc",
   "metadata": {},
   "outputs": [
    {
     "data": {
      "text/plain": [
       "dict_keys([b'batch_label', b'labels', b'data', b'filenames'])"
      ]
     },
     "execution_count": 4,
     "metadata": {},
     "output_type": "execute_result"
    }
   ],
   "source": [
    "d.keys()"
   ]
  },
  {
   "cell_type": "code",
   "execution_count": 7,
   "id": "4e7c5423-41c9-4f8f-bab2-98e501e47b14",
   "metadata": {},
   "outputs": [
    {
     "data": {
      "text/plain": [
       "[6, 9, 9, 4, 1]"
      ]
     },
     "execution_count": 7,
     "metadata": {},
     "output_type": "execute_result"
    }
   ],
   "source": [
    "d[b'labels'][:5]"
   ]
  },
  {
   "cell_type": "code",
   "execution_count": 9,
   "id": "e640b099-80b9-4657-9b96-13da64ccab56",
   "metadata": {},
   "outputs": [
    {
     "data": {
      "text/plain": [
       "array([[ 59,  43,  50, ..., 140,  84,  72],\n",
       "       [154, 126, 105, ..., 139, 142, 144],\n",
       "       [255, 253, 253, ...,  83,  83,  84],\n",
       "       [ 28,  37,  38, ...,  28,  37,  46],\n",
       "       [170, 168, 177, ...,  82,  78,  80]], dtype=uint8)"
      ]
     },
     "execution_count": 9,
     "metadata": {},
     "output_type": "execute_result"
    }
   ],
   "source": [
    "d[b'data'][:5]"
   ]
  },
  {
   "cell_type": "code",
   "execution_count": 17,
   "id": "1d69d06c-29e6-4b08-ba70-a13a76ccf223",
   "metadata": {},
   "outputs": [
    {
     "data": {
      "text/plain": [
       "<matplotlib.image.AxesImage at 0x216929e6508>"
      ]
     },
     "execution_count": 17,
     "metadata": {},
     "output_type": "execute_result"
    },
    {
     "data": {
      "image/png": "[encoded data removed]",
      "text/plain": [
       "<Figure size 432x288 with 1 Axes>"
      ]
     },
     "metadata": {
      "needs_background": "light"
     },
     "output_type": "display_data"
    }
   ],
   "source": [
    "import matplotlib.pyplot as plt\n",
    "\n",
    "plt.imshow(d[b'data'][0].reshape((32,32,3)))"
   ]
  }
 ],
 "metadata": {
  "kernelspec": {
   "display_name": "Python (cs4243)",
   "language": "python",
   "name": "cs4243"
  },
  "language_info": {
   "codemirror_mode": {
    "name": "ipython",
    "version": 3
   },
   "file_extension": ".py",
   "mimetype": "text/x-python",
   "name": "python",
   "nbconvert_exporter": "python",
   "pygments_lexer": "ipython3",
   "version": "3.7.10"
  }
 },
 "nbformat": 4,
 "nbformat_minor": 5
}
