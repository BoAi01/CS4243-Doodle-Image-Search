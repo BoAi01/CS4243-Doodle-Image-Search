{
 "cells": [
  {
   "cell_type": "code",
   "execution_count": 1,
   "id": "9fc0fabf",
   "metadata": {},
   "outputs": [],
   "source": [
    "import torch\n",
    "import torch.nn as nn\n",
    "import torch.nn.functional as F\n",
    "from torch.utils.data import Dataset, TensorDataset, DataLoader\n",
    "import torchvision\n",
    "import torchvision.transforms as transforms"
   ]
  },
  {
   "cell_type": "code",
   "execution_count": 18,
   "id": "753be93a",
   "metadata": {},
   "outputs": [],
   "source": [
    "class BetterCNN(nn.Module):\n",
    "    def __init__(self, in_channels, classes):\n",
    "        super().__init__()\n",
    "        self.conv1 = nn.Conv2d(in_channels, 32, (3,3))\n",
    "        self.conv2 = nn.Conv2d(32, 32, (3,3))\n",
    "        self.conv3 = nn.Conv2d(32, 64, (3,3))\n",
    "        self.conv4 = nn.Conv2d(64, 64, (3,3))\n",
    "        self.mp = nn.MaxPool2d((2,2))\n",
    "        self.flatten = nn.Flatten(1)\n",
    "\n",
    "        self.l1 = nn.Linear(1600, 512)\n",
    "        self.l2 = nn.Linear(512, 128)\n",
    "        self.l3 = nn.Linear(128, classes)\n",
    "        self.relu = nn.LeakyReLU()\n",
    "\n",
    "    def forward(self, x):\n",
    "        x = self.relu(self.conv1(x))\n",
    "        x = self.relu(self.mp(self.conv2(x)))\n",
    "        x = self.relu(self.conv3(x))\n",
    "        x = self.relu(self.mp(self.conv4(x)))\n",
    "        x = self.flatten(x)\n",
    "        x = self.relu(self.l1(x))\n",
    "        x = self.relu(self.l2(x))\n",
    "        out = torch.softmax(self.l3(x), 1)\n",
    "        \n",
    "        \"\"\"\n",
    "        opt = SGD(lr=0.001, momentum=0.9)\n",
    "        model.compile(optimizer=opt, loss='categorical_crossentropy', metrics=['accuracy'])\n",
    "        \"\"\"\n",
    "\n",
    "        return out"
   ]
  },
  {
   "cell_type": "code",
   "execution_count": 11,
   "id": "44697c16",
   "metadata": {},
   "outputs": [
    {
     "name": "stdout",
     "output_type": "stream",
     "text": [
      "Files already downloaded and verified\n",
      "Files already downloaded and verified\n"
     ]
    }
   ],
   "source": [
    "transform = transforms.Compose([\n",
    "    transforms.ToTensor(),\n",
    "    transforms.Normalize((0.5, 0.5, 0.5), (0.5, 0.5, 0.5))\n",
    "])\n",
    "\n",
    "trainset = torchvision.datasets.CIFAR10(root='./dataset', train=True, download=True, transform=transform)\n",
    "testset = torchvision.datasets.CIFAR10(root='./dataset', train=False, download=True, transform=transform)\n",
    "\n",
    "train_dataloader = DataLoader(trainset, batch_size=128, shuffle=True)\n",
    "test_dataloader = DataLoader(testset, batch_size=128, shuffle=True)"
   ]
  },
  {
   "cell_type": "code",
   "execution_count": 22,
   "id": "5bf4cab4",
   "metadata": {},
   "outputs": [],
   "source": [
    "model = BetterCNN(3, 10)\n",
    "optim = torch.optim.AdamW(net.parameters())\n",
    "loss_fn = nn.CrossEntropyLoss()"
   ]
  },
  {
   "cell_type": "code",
   "execution_count": 15,
   "id": "37e5bdf4",
   "metadata": {},
   "outputs": [],
   "source": [
    "def train(dataloader, model, loss_fn, optimizer):\n",
    "    size = len(dataloader.dataset)\n",
    "    model.train()\n",
    "    losses = []\n",
    "    for batch, (X, y) in enumerate(dataloader):\n",
    "        pred = model(X)\n",
    "        loss = loss_fn(pred, y)\n",
    "\n",
    "        optimizer.zero_grad()\n",
    "        loss.backward()\n",
    "        optimizer.step()\n",
    "\n",
    "        if batch % 100 == 0:\n",
    "            loss, current = loss.item(), batch * len(X)\n",
    "            # print(f\"Loss: {loss:>7f}  [{current:>5d}/{size:>5d}]\")\n",
    "            losses.append(loss)\n",
    "    return losses"
   ]
  },
  {
   "cell_type": "code",
   "execution_count": 16,
   "id": "7ea34d8b",
   "metadata": {},
   "outputs": [],
   "source": [
    "def test(dataloader, model, loss_fn):\n",
    "    size = len(dataloader.dataset)\n",
    "    num_batches = len(dataloader)\n",
    "    model.eval()\n",
    "    test_loss, correct = 0, 0\n",
    "    with torch.no_grad():\n",
    "        for X, y in dataloader:\n",
    "            pred = model(X)\n",
    "            test_loss += loss_fn(pred, y).item()\n",
    "            correct += (pred.argmax(1) == y).type(torch.float).sum().item()\n",
    "    test_loss /= num_batches\n",
    "    correct /= size\n",
    "    print(f\"Test Error: \\n Accuracy: {(100*correct):>0.1f}%, Avg loss: {test_loss:>8f} \\n\")\n",
    "    return correct * 100"
   ]
  },
  {
   "cell_type": "code",
   "execution_count": null,
   "id": "3c7a7c7a",
   "metadata": {},
   "outputs": [
    {
     "name": "stdout",
     "output_type": "stream",
     "text": [
      "Epoch 1 - Test Error: \n",
      " Accuracy: 10.0%, Avg loss: 2.302620 \n",
      "\n",
      "Epoch 2 - Test Error: \n",
      " Accuracy: 10.0%, Avg loss: 2.302603 \n",
      "\n",
      "Epoch 3 - Test Error: \n",
      " Accuracy: 10.0%, Avg loss: 2.302620 \n",
      "\n",
      "Epoch 4 - Test Error: \n",
      " Accuracy: 10.0%, Avg loss: 2.302606 \n",
      "\n",
      "Epoch 5 - Test Error: \n",
      " Accuracy: 10.0%, Avg loss: 2.302620 \n",
      "\n",
      "Epoch 6 - Test Error: \n",
      " Accuracy: 10.0%, Avg loss: 2.302583 \n",
      "\n",
      "Epoch 7 - Test Error: \n",
      " Accuracy: 10.0%, Avg loss: 2.302586 \n",
      "\n",
      "Epoch 8 - "
     ]
    }
   ],
   "source": [
    "epochs = 20\n",
    "training_losses = []\n",
    "test_accuracy = []\n",
    "for t in range(epochs):\n",
    "    print(f\"Epoch {t+1} - \", end=\"\")\n",
    "    train_losses = train(train_dataloader, model, loss_fn, optim)\n",
    "    test_acc = test(test_dataloader, model, loss_fn)\n",
    "    training_losses += train_losses\n",
    "    test_accuracy.append(test_acc)"
   ]
  }
 ],
 "metadata": {
  "kernelspec": {
   "display_name": "Python 3",
   "language": "python",
   "name": "python3"
  },
  "language_info": {
   "codemirror_mode": {
    "name": "ipython",
    "version": 3
   },
   "file_extension": ".py",
   "mimetype": "text/x-python",
   "name": "python",
   "nbconvert_exporter": "python",
   "pygments_lexer": "ipython3",
   "version": "3.6.13"
  }
 },
 "nbformat": 4,
 "nbformat_minor": 5
}
